{
  "nbformat": 4,
  "nbformat_minor": 0,
  "metadata": {
    "colab": {
      "name": "stage_E_quiz.ipynb",
      "provenance": []
    },
    "kernelspec": {
      "name": "python3",
      "display_name": "Python 3"
    },
    "language_info": {
      "name": "python"
    }
  },
  "cells": [
    {
      "cell_type": "code",
      "metadata": {
        "id": "7BlN9Zu8x-h7"
      },
      "source": [
        "import numpy as np\n",
        "import pandas as pd\n",
        "import matplotlib.pyplot as plt\n",
        "import os"
      ],
      "execution_count": 1,
      "outputs": []
    },
    {
      "cell_type": "code",
      "metadata": {
        "id": "4-jupM8hzAwI"
      },
      "source": [
        "def convert_dtype(x):\n",
        "    try:\n",
        "        return float(x)   \n",
        "    except ValueError:        \n",
        "        return np.nan"
      ],
      "execution_count": 2,
      "outputs": []
    },
    {
      "cell_type": "code",
      "metadata": {
        "colab": {
          "base_uri": "https://localhost:8080/"
        },
        "id": "QA6LfV9qzFc8",
        "outputId": "0f7fc00e-662e-456e-f9ff-7c648b6526d6"
      },
      "source": [
        "from google.colab import drive\n",
        "drive.mount(\"/content/drive\")"
      ],
      "execution_count": 4,
      "outputs": [
        {
          "output_type": "stream",
          "name": "stdout",
          "text": [
            "Mounted at /content/drive\n"
          ]
        }
      ]
    },
    {
      "cell_type": "code",
      "metadata": {
        "id": "FNPdRbYAzH_U"
      },
      "source": [
        "os.chdir(\"./drive/MyDrive/\")"
      ],
      "execution_count": 3,
      "outputs": []
    },
    {
      "cell_type": "code",
      "metadata": {
        "colab": {
          "base_uri": "https://localhost:8080/",
          "height": 425
        },
        "id": "z1viwaQKzZei",
        "outputId": "9d0b2662-64f7-49f7-c659-82498c88dd72"
      },
      "source": [
        "df = pd.read_csv(\"household_power_consumption.txt\",\n",
        "                 sep=\";\", \n",
        "                 parse_dates={'index':['Date','Time']},\n",
        "                 converters={\"Global_active_power\": convert_dtype,\n",
        "                 \"Global_reactive_power\": convert_dtype,\n",
        "                 \"Voltage\": convert_dtype,\n",
        "                 \"Global_intensity\": convert_dtype,\n",
        "                 \"Sub_metering_1\": convert_dtype,\n",
        "                 \"Sub_metering_2\": convert_dtype},\n",
        "                 index_col = \"index\"\n",
        "                 )\n",
        "df.head()"
      ],
      "execution_count": 4,
      "outputs": [
        {
          "output_type": "execute_result",
          "data": {
            "text/html": [
              "<div>\n",
              "<style scoped>\n",
              "    .dataframe tbody tr th:only-of-type {\n",
              "        vertical-align: middle;\n",
              "    }\n",
              "\n",
              "    .dataframe tbody tr th {\n",
              "        vertical-align: top;\n",
              "    }\n",
              "\n",
              "    .dataframe thead th {\n",
              "        text-align: right;\n",
              "    }\n",
              "</style>\n",
              "<table border=\"1\" class=\"dataframe\">\n",
              "  <thead>\n",
              "    <tr style=\"text-align: right;\">\n",
              "      <th></th>\n",
              "      <th>Global_active_power</th>\n",
              "      <th>Global_reactive_power</th>\n",
              "      <th>Voltage</th>\n",
              "      <th>Global_intensity</th>\n",
              "      <th>Sub_metering_1</th>\n",
              "      <th>Sub_metering_2</th>\n",
              "      <th>Sub_metering_3</th>\n",
              "    </tr>\n",
              "    <tr>\n",
              "      <th>index</th>\n",
              "      <th></th>\n",
              "      <th></th>\n",
              "      <th></th>\n",
              "      <th></th>\n",
              "      <th></th>\n",
              "      <th></th>\n",
              "      <th></th>\n",
              "    </tr>\n",
              "  </thead>\n",
              "  <tbody>\n",
              "    <tr>\n",
              "      <th>2006-12-16 17:24:00</th>\n",
              "      <td>4.216</td>\n",
              "      <td>0.418</td>\n",
              "      <td>234.84</td>\n",
              "      <td>18.4</td>\n",
              "      <td>0.0</td>\n",
              "      <td>1.0</td>\n",
              "      <td>17.0</td>\n",
              "    </tr>\n",
              "    <tr>\n",
              "      <th>2006-12-16 17:25:00</th>\n",
              "      <td>5.360</td>\n",
              "      <td>0.436</td>\n",
              "      <td>233.63</td>\n",
              "      <td>23.0</td>\n",
              "      <td>0.0</td>\n",
              "      <td>1.0</td>\n",
              "      <td>16.0</td>\n",
              "    </tr>\n",
              "    <tr>\n",
              "      <th>2006-12-16 17:26:00</th>\n",
              "      <td>5.374</td>\n",
              "      <td>0.498</td>\n",
              "      <td>233.29</td>\n",
              "      <td>23.0</td>\n",
              "      <td>0.0</td>\n",
              "      <td>2.0</td>\n",
              "      <td>17.0</td>\n",
              "    </tr>\n",
              "    <tr>\n",
              "      <th>2006-12-16 17:27:00</th>\n",
              "      <td>5.388</td>\n",
              "      <td>0.502</td>\n",
              "      <td>233.74</td>\n",
              "      <td>23.0</td>\n",
              "      <td>0.0</td>\n",
              "      <td>1.0</td>\n",
              "      <td>17.0</td>\n",
              "    </tr>\n",
              "    <tr>\n",
              "      <th>2006-12-16 17:28:00</th>\n",
              "      <td>3.666</td>\n",
              "      <td>0.528</td>\n",
              "      <td>235.68</td>\n",
              "      <td>15.8</td>\n",
              "      <td>0.0</td>\n",
              "      <td>1.0</td>\n",
              "      <td>17.0</td>\n",
              "    </tr>\n",
              "  </tbody>\n",
              "</table>\n",
              "</div>"
            ],
            "text/plain": [
              "                     Global_active_power  ...  Sub_metering_3\n",
              "index                                     ...                \n",
              "2006-12-16 17:24:00                4.216  ...            17.0\n",
              "2006-12-16 17:25:00                5.360  ...            16.0\n",
              "2006-12-16 17:26:00                5.374  ...            17.0\n",
              "2006-12-16 17:27:00                5.388  ...            17.0\n",
              "2006-12-16 17:28:00                3.666  ...            17.0\n",
              "\n",
              "[5 rows x 7 columns]"
            ]
          },
          "metadata": {},
          "execution_count": 4
        }
      ]
    },
    {
      "cell_type": "code",
      "metadata": {
        "colab": {
          "base_uri": "https://localhost:8080/"
        },
        "id": "gEmTb5UJzhag",
        "outputId": "7d0053d4-433b-4130-9ee4-ea260875c86f"
      },
      "source": [
        "df.info()"
      ],
      "execution_count": 7,
      "outputs": [
        {
          "output_type": "stream",
          "name": "stdout",
          "text": [
            "<class 'pandas.core.frame.DataFrame'>\n",
            "DatetimeIndex: 2075259 entries, 2006-12-16 17:24:00 to 2010-11-26 21:02:00\n",
            "Data columns (total 7 columns):\n",
            " #   Column                 Dtype  \n",
            "---  ------                 -----  \n",
            " 0   Global_active_power    float64\n",
            " 1   Global_reactive_power  float64\n",
            " 2   Voltage                float64\n",
            " 3   Global_intensity       float64\n",
            " 4   Sub_metering_1         float64\n",
            " 5   Sub_metering_2         float64\n",
            " 6   Sub_metering_3         float64\n",
            "dtypes: float64(7)\n",
            "memory usage: 126.7 MB\n"
          ]
        }
      ]
    },
    {
      "cell_type": "code",
      "metadata": {
        "colab": {
          "base_uri": "https://localhost:8080/",
          "height": 317
        },
        "id": "Ya50J0rh0pdM",
        "outputId": "afac89f3-a47d-4060-adc1-e35713eb2a1d"
      },
      "source": [
        "df.describe()"
      ],
      "execution_count": 10,
      "outputs": [
        {
          "output_type": "execute_result",
          "data": {
            "text/html": [
              "<div>\n",
              "<style scoped>\n",
              "    .dataframe tbody tr th:only-of-type {\n",
              "        vertical-align: middle;\n",
              "    }\n",
              "\n",
              "    .dataframe tbody tr th {\n",
              "        vertical-align: top;\n",
              "    }\n",
              "\n",
              "    .dataframe thead th {\n",
              "        text-align: right;\n",
              "    }\n",
              "</style>\n",
              "<table border=\"1\" class=\"dataframe\">\n",
              "  <thead>\n",
              "    <tr style=\"text-align: right;\">\n",
              "      <th></th>\n",
              "      <th>Global_active_power</th>\n",
              "      <th>Global_reactive_power</th>\n",
              "      <th>Voltage</th>\n",
              "      <th>Global_intensity</th>\n",
              "      <th>Sub_metering_1</th>\n",
              "      <th>Sub_metering_2</th>\n",
              "      <th>Sub_metering_3</th>\n",
              "    </tr>\n",
              "  </thead>\n",
              "  <tbody>\n",
              "    <tr>\n",
              "      <th>count</th>\n",
              "      <td>2.049280e+06</td>\n",
              "      <td>2.049280e+06</td>\n",
              "      <td>2.049280e+06</td>\n",
              "      <td>2.049280e+06</td>\n",
              "      <td>2.049280e+06</td>\n",
              "      <td>2.049280e+06</td>\n",
              "      <td>2.049280e+06</td>\n",
              "    </tr>\n",
              "    <tr>\n",
              "      <th>mean</th>\n",
              "      <td>1.091615e+00</td>\n",
              "      <td>1.237145e-01</td>\n",
              "      <td>2.408399e+02</td>\n",
              "      <td>4.627759e+00</td>\n",
              "      <td>1.121923e+00</td>\n",
              "      <td>1.298520e+00</td>\n",
              "      <td>6.458447e+00</td>\n",
              "    </tr>\n",
              "    <tr>\n",
              "      <th>std</th>\n",
              "      <td>1.057294e+00</td>\n",
              "      <td>1.127220e-01</td>\n",
              "      <td>3.239987e+00</td>\n",
              "      <td>4.444396e+00</td>\n",
              "      <td>6.153031e+00</td>\n",
              "      <td>5.822026e+00</td>\n",
              "      <td>8.437154e+00</td>\n",
              "    </tr>\n",
              "    <tr>\n",
              "      <th>min</th>\n",
              "      <td>7.600000e-02</td>\n",
              "      <td>0.000000e+00</td>\n",
              "      <td>2.232000e+02</td>\n",
              "      <td>2.000000e-01</td>\n",
              "      <td>0.000000e+00</td>\n",
              "      <td>0.000000e+00</td>\n",
              "      <td>0.000000e+00</td>\n",
              "    </tr>\n",
              "    <tr>\n",
              "      <th>25%</th>\n",
              "      <td>3.080000e-01</td>\n",
              "      <td>4.800000e-02</td>\n",
              "      <td>2.389900e+02</td>\n",
              "      <td>1.400000e+00</td>\n",
              "      <td>0.000000e+00</td>\n",
              "      <td>0.000000e+00</td>\n",
              "      <td>0.000000e+00</td>\n",
              "    </tr>\n",
              "    <tr>\n",
              "      <th>50%</th>\n",
              "      <td>6.020000e-01</td>\n",
              "      <td>1.000000e-01</td>\n",
              "      <td>2.410100e+02</td>\n",
              "      <td>2.600000e+00</td>\n",
              "      <td>0.000000e+00</td>\n",
              "      <td>0.000000e+00</td>\n",
              "      <td>1.000000e+00</td>\n",
              "    </tr>\n",
              "    <tr>\n",
              "      <th>75%</th>\n",
              "      <td>1.528000e+00</td>\n",
              "      <td>1.940000e-01</td>\n",
              "      <td>2.428900e+02</td>\n",
              "      <td>6.400000e+00</td>\n",
              "      <td>0.000000e+00</td>\n",
              "      <td>1.000000e+00</td>\n",
              "      <td>1.700000e+01</td>\n",
              "    </tr>\n",
              "    <tr>\n",
              "      <th>max</th>\n",
              "      <td>1.112200e+01</td>\n",
              "      <td>1.390000e+00</td>\n",
              "      <td>2.541500e+02</td>\n",
              "      <td>4.840000e+01</td>\n",
              "      <td>8.800000e+01</td>\n",
              "      <td>8.000000e+01</td>\n",
              "      <td>3.100000e+01</td>\n",
              "    </tr>\n",
              "  </tbody>\n",
              "</table>\n",
              "</div>"
            ],
            "text/plain": [
              "       Global_active_power  ...  Sub_metering_3\n",
              "count         2.049280e+06  ...    2.049280e+06\n",
              "mean          1.091615e+00  ...    6.458447e+00\n",
              "std           1.057294e+00  ...    8.437154e+00\n",
              "min           7.600000e-02  ...    0.000000e+00\n",
              "25%           3.080000e-01  ...    0.000000e+00\n",
              "50%           6.020000e-01  ...    1.000000e+00\n",
              "75%           1.528000e+00  ...    1.700000e+01\n",
              "max           1.112200e+01  ...    3.100000e+01\n",
              "\n",
              "[8 rows x 7 columns]"
            ]
          },
          "metadata": {},
          "execution_count": 10
        }
      ]
    },
    {
      "cell_type": "code",
      "metadata": {
        "colab": {
          "base_uri": "https://localhost:8080/"
        },
        "id": "u5YfjQf80rYH",
        "outputId": "c8429076-91a7-40d0-ad47-4d4e08f14970"
      },
      "source": [
        "df.shape"
      ],
      "execution_count": 11,
      "outputs": [
        {
          "output_type": "execute_result",
          "data": {
            "text/plain": [
              "(2075259, 7)"
            ]
          },
          "metadata": {},
          "execution_count": 11
        }
      ]
    },
    {
      "cell_type": "code",
      "metadata": {
        "id": "nv7GpKL01cV0"
      },
      "source": [
        "def fill_mean(df, column):\n",
        "    mean = df[column].mean()\n",
        "    df[column] = df[column].fillna(mean)\n",
        "    \n",
        "    return df[column]\n",
        "\n",
        "for i in df.columns:\n",
        "    fill_mean(df, i)"
      ],
      "execution_count": 5,
      "outputs": []
    },
    {
      "cell_type": "code",
      "metadata": {
        "colab": {
          "base_uri": "https://localhost:8080/"
        },
        "id": "cFL_rrbe1gyj",
        "outputId": "f0cb748a-7900-4b49-fb28-d8c52c28cad6"
      },
      "source": [
        "df.isna().sum()"
      ],
      "execution_count": 9,
      "outputs": [
        {
          "output_type": "execute_result",
          "data": {
            "text/plain": [
              "Global_active_power      0\n",
              "Global_reactive_power    0\n",
              "Voltage                  0\n",
              "Global_intensity         0\n",
              "Sub_metering_1           0\n",
              "Sub_metering_2           0\n",
              "Sub_metering_3           0\n",
              "dtype: int64"
            ]
          },
          "metadata": {},
          "execution_count": 9
        }
      ]
    },
    {
      "cell_type": "code",
      "metadata": {
        "colab": {
          "base_uri": "https://localhost:8080/",
          "height": 340
        },
        "id": "jePE7_3V1klc",
        "outputId": "ff1d1e87-e3ca-4ea4-bbd1-f9dbc7da0948"
      },
      "source": [
        "# Resampling to a daily sampling rate\n",
        "daily_df = df.resample(\"D\").sum()\n",
        "daily_df.head()"
      ],
      "execution_count": 6,
      "outputs": [
        {
          "output_type": "execute_result",
          "data": {
            "text/html": [
              "<div>\n",
              "<style scoped>\n",
              "    .dataframe tbody tr th:only-of-type {\n",
              "        vertical-align: middle;\n",
              "    }\n",
              "\n",
              "    .dataframe tbody tr th {\n",
              "        vertical-align: top;\n",
              "    }\n",
              "\n",
              "    .dataframe thead th {\n",
              "        text-align: right;\n",
              "    }\n",
              "</style>\n",
              "<table border=\"1\" class=\"dataframe\">\n",
              "  <thead>\n",
              "    <tr style=\"text-align: right;\">\n",
              "      <th></th>\n",
              "      <th>Global_active_power</th>\n",
              "      <th>Global_reactive_power</th>\n",
              "      <th>Voltage</th>\n",
              "      <th>Global_intensity</th>\n",
              "      <th>Sub_metering_1</th>\n",
              "      <th>Sub_metering_2</th>\n",
              "      <th>Sub_metering_3</th>\n",
              "    </tr>\n",
              "    <tr>\n",
              "      <th>index</th>\n",
              "      <th></th>\n",
              "      <th></th>\n",
              "      <th></th>\n",
              "      <th></th>\n",
              "      <th></th>\n",
              "      <th></th>\n",
              "      <th></th>\n",
              "    </tr>\n",
              "  </thead>\n",
              "  <tbody>\n",
              "    <tr>\n",
              "      <th>2006-12-16</th>\n",
              "      <td>1209.176</td>\n",
              "      <td>34.922</td>\n",
              "      <td>93552.53</td>\n",
              "      <td>5180.8</td>\n",
              "      <td>0.0</td>\n",
              "      <td>546.0</td>\n",
              "      <td>4926.0</td>\n",
              "    </tr>\n",
              "    <tr>\n",
              "      <th>2006-12-17</th>\n",
              "      <td>3390.460</td>\n",
              "      <td>226.006</td>\n",
              "      <td>345725.32</td>\n",
              "      <td>14398.6</td>\n",
              "      <td>2033.0</td>\n",
              "      <td>4187.0</td>\n",
              "      <td>13341.0</td>\n",
              "    </tr>\n",
              "    <tr>\n",
              "      <th>2006-12-18</th>\n",
              "      <td>2203.826</td>\n",
              "      <td>161.792</td>\n",
              "      <td>347373.64</td>\n",
              "      <td>9247.2</td>\n",
              "      <td>1063.0</td>\n",
              "      <td>2621.0</td>\n",
              "      <td>14018.0</td>\n",
              "    </tr>\n",
              "    <tr>\n",
              "      <th>2006-12-19</th>\n",
              "      <td>1666.194</td>\n",
              "      <td>150.942</td>\n",
              "      <td>348479.01</td>\n",
              "      <td>7094.0</td>\n",
              "      <td>839.0</td>\n",
              "      <td>7602.0</td>\n",
              "      <td>6197.0</td>\n",
              "    </tr>\n",
              "    <tr>\n",
              "      <th>2006-12-20</th>\n",
              "      <td>2225.748</td>\n",
              "      <td>160.998</td>\n",
              "      <td>348923.61</td>\n",
              "      <td>9313.0</td>\n",
              "      <td>0.0</td>\n",
              "      <td>2648.0</td>\n",
              "      <td>14063.0</td>\n",
              "    </tr>\n",
              "  </tbody>\n",
              "</table>\n",
              "</div>"
            ],
            "text/plain": [
              "            Global_active_power  ...  Sub_metering_3\n",
              "index                            ...                \n",
              "2006-12-16             1209.176  ...          4926.0\n",
              "2006-12-17             3390.460  ...         13341.0\n",
              "2006-12-18             2203.826  ...         14018.0\n",
              "2006-12-19             1666.194  ...          6197.0\n",
              "2006-12-20             2225.748  ...         14063.0\n",
              "\n",
              "[5 rows x 7 columns]"
            ]
          },
          "metadata": {},
          "execution_count": 6
        }
      ]
    },
    {
      "cell_type": "code",
      "metadata": {
        "colab": {
          "base_uri": "https://localhost:8080/"
        },
        "id": "V3DgapqR1oVz",
        "outputId": "7b22ee98-040e-40e4-81c0-3b330b04b115"
      },
      "source": [
        "daily_df.shape"
      ],
      "execution_count": 28,
      "outputs": [
        {
          "output_type": "execute_result",
          "data": {
            "text/plain": [
              "(1457, 7)"
            ]
          },
          "metadata": {},
          "execution_count": 28
        }
      ]
    },
    {
      "cell_type": "code",
      "metadata": {
        "colab": {
          "base_uri": "https://localhost:8080/",
          "height": 377
        },
        "id": "b9b6CyTl2BGN",
        "outputId": "67e901df-c801-4f91-9194-da7c7270d7eb"
      },
      "source": [
        "# Plotting the daily_global_active_power over time\n",
        "plt.figure(figsize=(12, 6))\n",
        "plt.plot(daily_df.index, daily_df[\"Global_active_power\"])\n",
        "plt.grid()"
      ],
      "execution_count": 8,
      "outputs": [
        {
          "output_type": "display_data",
          "data": {
            "image/png": "[encoded data removed]",
            "text/plain": [
              "<Figure size 864x432 with 1 Axes>"
            ]
          },
          "metadata": {
            "needs_background": "light"
          }
        }
      ]
    },
    {
      "cell_type": "code",
      "metadata": {
        "colab": {
          "base_uri": "https://localhost:8080/"
        },
        "id": "L_yh0DML2DPg",
        "outputId": "8551d6b7-cc06-469e-9af0-c4c6e370d331"
      },
      "source": [
        "# Pearson correlation coefficient between global_active_power and global_reactive_power\n",
        "round(df[\"Global_active_power\"].corr(df[\"Global_reactive_power\"], method=\"pearson\"), 2)"
      ],
      "execution_count": 30,
      "outputs": [
        {
          "output_type": "execute_result",
          "data": {
            "text/plain": [
              "0.25"
            ]
          },
          "metadata": {},
          "execution_count": 30
        }
      ]
    },
    {
      "cell_type": "code",
      "metadata": {
        "colab": {
          "base_uri": "https://localhost:8080/"
        },
        "id": "0_67oAYs3F8i",
        "outputId": "76e6822b-c749-4a36-e715-fb33a7a380fb"
      },
      "source": [
        "# Pearson correlation coefficient between global_intensity and voltage\n",
        "round(df[\"Voltage\"].corr(df[\"Global_intensity\"], method=\"pearson\"), 2)"
      ],
      "execution_count": 31,
      "outputs": [
        {
          "output_type": "execute_result",
          "data": {
            "text/plain": [
              "-0.41"
            ]
          },
          "metadata": {},
          "execution_count": 31
        }
      ]
    },
    {
      "cell_type": "code",
      "metadata": {
        "colab": {
          "base_uri": "https://localhost:8080/"
        },
        "id": "BdZQ7XVb8qby",
        "outputId": "bc8a1b85-7a9f-49c9-f973-899950836b67"
      },
      "source": [
        "daily_df.reset_index(inplace=True)\n",
        "daily_df.info()"
      ],
      "execution_count": 7,
      "outputs": [
        {
          "output_type": "stream",
          "name": "stdout",
          "text": [
            "<class 'pandas.core.frame.DataFrame'>\n",
            "RangeIndex: 1457 entries, 0 to 1456\n",
            "Data columns (total 8 columns):\n",
            " #   Column                 Non-Null Count  Dtype         \n",
            "---  ------                 --------------  -----         \n",
            " 0   index                  1457 non-null   datetime64[ns]\n",
            " 1   Global_active_power    1457 non-null   float64       \n",
            " 2   Global_reactive_power  1457 non-null   float64       \n",
            " 3   Voltage                1457 non-null   float64       \n",
            " 4   Global_intensity       1457 non-null   float64       \n",
            " 5   Sub_metering_1         1457 non-null   float64       \n",
            " 6   Sub_metering_2         1457 non-null   float64       \n",
            " 7   Sub_metering_3         1457 non-null   float64       \n",
            "dtypes: datetime64[ns](1), float64(7)\n",
            "memory usage: 91.2 KB\n"
          ]
        }
      ]
    },
    {
      "cell_type": "code",
      "metadata": {
        "id": "ap0QhdqT4Xrm"
      },
      "source": [
        "daily_df1 = daily_df[[\"index\", \"Global_active_power\"]]\n",
        "daily_df1 = daily_df1.rename(columns={\"index\": \"ds\", \"Global_active_power\": \"y\"})"
      ],
      "execution_count": 8,
      "outputs": []
    },
    {
      "cell_type": "code",
      "metadata": {
        "colab": {
          "base_uri": "https://localhost:8080/"
        },
        "id": "oDUtcjL27NOy",
        "outputId": "0ddc00df-ec43-42da-a8c8-0fff51ddd520"
      },
      "source": [
        "daily_df1.shape"
      ],
      "execution_count": 36,
      "outputs": [
        {
          "output_type": "execute_result",
          "data": {
            "text/plain": [
              "(1457, 2)"
            ]
          },
          "metadata": {},
          "execution_count": 36
        }
      ]
    },
    {
      "cell_type": "code",
      "metadata": {
        "colab": {
          "base_uri": "https://localhost:8080/",
          "height": 204
        },
        "id": "skJMD0dJ7Qyf",
        "outputId": "4e5cf1dd-e4b7-44cf-c02d-a26314dc64b8"
      },
      "source": [
        "daily_df1.head()"
      ],
      "execution_count": 37,
      "outputs": [
        {
          "output_type": "execute_result",
          "data": {
            "text/html": [
              "<div>\n",
              "<style scoped>\n",
              "    .dataframe tbody tr th:only-of-type {\n",
              "        vertical-align: middle;\n",
              "    }\n",
              "\n",
              "    .dataframe tbody tr th {\n",
              "        vertical-align: top;\n",
              "    }\n",
              "\n",
              "    .dataframe thead th {\n",
              "        text-align: right;\n",
              "    }\n",
              "</style>\n",
              "<table border=\"1\" class=\"dataframe\">\n",
              "  <thead>\n",
              "    <tr style=\"text-align: right;\">\n",
              "      <th></th>\n",
              "      <th>ds</th>\n",
              "      <th>y</th>\n",
              "    </tr>\n",
              "  </thead>\n",
              "  <tbody>\n",
              "    <tr>\n",
              "      <th>0</th>\n",
              "      <td>2006-12-16</td>\n",
              "      <td>1209.176</td>\n",
              "    </tr>\n",
              "    <tr>\n",
              "      <th>1</th>\n",
              "      <td>2006-12-17</td>\n",
              "      <td>3390.460</td>\n",
              "    </tr>\n",
              "    <tr>\n",
              "      <th>2</th>\n",
              "      <td>2006-12-18</td>\n",
              "      <td>2203.826</td>\n",
              "    </tr>\n",
              "    <tr>\n",
              "      <th>3</th>\n",
              "      <td>2006-12-19</td>\n",
              "      <td>1666.194</td>\n",
              "    </tr>\n",
              "    <tr>\n",
              "      <th>4</th>\n",
              "      <td>2006-12-20</td>\n",
              "      <td>2225.748</td>\n",
              "    </tr>\n",
              "  </tbody>\n",
              "</table>\n",
              "</div>"
            ],
            "text/plain": [
              "          ds         y\n",
              "0 2006-12-16  1209.176\n",
              "1 2006-12-17  3390.460\n",
              "2 2006-12-18  2203.826\n",
              "3 2006-12-19  1666.194\n",
              "4 2006-12-20  2225.748"
            ]
          },
          "metadata": {},
          "execution_count": 37
        }
      ]
    },
    {
      "cell_type": "code",
      "metadata": {
        "id": "I3Mve_Zb7fw0"
      },
      "source": [
        "X_train_daily1 = daily_df1[:-365]\n",
        "X_test_daily1 = daily_df1[-365:]"
      ],
      "execution_count": 9,
      "outputs": []
    },
    {
      "cell_type": "code",
      "metadata": {
        "colab": {
          "base_uri": "https://localhost:8080/"
        },
        "id": "t1Qse14Z7nRL",
        "outputId": "16be1137-cc9e-4f0f-f1d4-d57a04c20c68"
      },
      "source": [
        "from fbprophet import Prophet\n",
        "\n",
        "model = Prophet()\n",
        "model.fit(X_train_daily1)"
      ],
      "execution_count": 10,
      "outputs": [
        {
          "output_type": "stream",
          "name": "stderr",
          "text": [
            "INFO:numexpr.utils:NumExpr defaulting to 2 threads.\n",
            "INFO:fbprophet:Disabling daily seasonality. Run prophet with daily_seasonality=True to override this.\n"
          ]
        },
        {
          "output_type": "execute_result",
          "data": {
            "text/plain": [
              "<fbprophet.forecaster.Prophet at 0x7f33dfc6cc90>"
            ]
          },
          "metadata": {},
          "execution_count": 10
        }
      ]
    },
    {
      "cell_type": "code",
      "metadata": {
        "colab": {
          "base_uri": "https://localhost:8080/",
          "height": 309
        },
        "id": "syfygl0C70F1",
        "outputId": "948be7d2-604b-49b7-ad6a-2aa2582d62cf"
      },
      "source": [
        "# To predict for the next 365 days\n",
        "future = model.make_future_dataframe(periods=365, freq=\"D\")\n",
        "forecast = model.predict(future)\n",
        "forecast.head()"
      ],
      "execution_count": 11,
      "outputs": [
        {
          "output_type": "execute_result",
          "data": {
            "text/html": [
              "<div>\n",
              "<style scoped>\n",
              "    .dataframe tbody tr th:only-of-type {\n",
              "        vertical-align: middle;\n",
              "    }\n",
              "\n",
              "    .dataframe tbody tr th {\n",
              "        vertical-align: top;\n",
              "    }\n",
              "\n",
              "    .dataframe thead th {\n",
              "        text-align: right;\n",
              "    }\n",
              "</style>\n",
              "<table border=\"1\" class=\"dataframe\">\n",
              "  <thead>\n",
              "    <tr style=\"text-align: right;\">\n",
              "      <th></th>\n",
              "      <th>ds</th>\n",
              "      <th>trend</th>\n",
              "      <th>yhat_lower</th>\n",
              "      <th>yhat_upper</th>\n",
              "      <th>trend_lower</th>\n",
              "      <th>trend_upper</th>\n",
              "      <th>additive_terms</th>\n",
              "      <th>additive_terms_lower</th>\n",
              "      <th>additive_terms_upper</th>\n",
              "      <th>weekly</th>\n",
              "      <th>weekly_lower</th>\n",
              "      <th>weekly_upper</th>\n",
              "      <th>yearly</th>\n",
              "      <th>yearly_lower</th>\n",
              "      <th>yearly_upper</th>\n",
              "      <th>multiplicative_terms</th>\n",
              "      <th>multiplicative_terms_lower</th>\n",
              "      <th>multiplicative_terms_upper</th>\n",
              "      <th>yhat</th>\n",
              "    </tr>\n",
              "  </thead>\n",
              "  <tbody>\n",
              "    <tr>\n",
              "      <th>0</th>\n",
              "      <td>2006-12-16</td>\n",
              "      <td>1652.571508</td>\n",
              "      <td>1408.227848</td>\n",
              "      <td>2863.240587</td>\n",
              "      <td>1652.571508</td>\n",
              "      <td>1652.571508</td>\n",
              "      <td>493.008951</td>\n",
              "      <td>493.008951</td>\n",
              "      <td>493.008951</td>\n",
              "      <td>149.605738</td>\n",
              "      <td>149.605738</td>\n",
              "      <td>149.605738</td>\n",
              "      <td>343.403213</td>\n",
              "      <td>343.403213</td>\n",
              "      <td>343.403213</td>\n",
              "      <td>0.0</td>\n",
              "      <td>0.0</td>\n",
              "      <td>0.0</td>\n",
              "      <td>2145.580459</td>\n",
              "    </tr>\n",
              "    <tr>\n",
              "      <th>1</th>\n",
              "      <td>2006-12-17</td>\n",
              "      <td>1652.402305</td>\n",
              "      <td>1417.383670</td>\n",
              "      <td>2862.858485</td>\n",
              "      <td>1652.402305</td>\n",
              "      <td>1652.402305</td>\n",
              "      <td>496.504609</td>\n",
              "      <td>496.504609</td>\n",
              "      <td>496.504609</td>\n",
              "      <td>138.197459</td>\n",
              "      <td>138.197459</td>\n",
              "      <td>138.197459</td>\n",
              "      <td>358.307150</td>\n",
              "      <td>358.307150</td>\n",
              "      <td>358.307150</td>\n",
              "      <td>0.0</td>\n",
              "      <td>0.0</td>\n",
              "      <td>0.0</td>\n",
              "      <td>2148.906914</td>\n",
              "    </tr>\n",
              "    <tr>\n",
              "      <th>2</th>\n",
              "      <td>2006-12-18</td>\n",
              "      <td>1652.233101</td>\n",
              "      <td>1175.252495</td>\n",
              "      <td>2650.894533</td>\n",
              "      <td>1652.233101</td>\n",
              "      <td>1652.233101</td>\n",
              "      <td>272.523643</td>\n",
              "      <td>272.523643</td>\n",
              "      <td>272.523643</td>\n",
              "      <td>-101.330342</td>\n",
              "      <td>-101.330342</td>\n",
              "      <td>-101.330342</td>\n",
              "      <td>373.853985</td>\n",
              "      <td>373.853985</td>\n",
              "      <td>373.853985</td>\n",
              "      <td>0.0</td>\n",
              "      <td>0.0</td>\n",
              "      <td>0.0</td>\n",
              "      <td>1924.756744</td>\n",
              "    </tr>\n",
              "    <tr>\n",
              "      <th>3</th>\n",
              "      <td>2006-12-19</td>\n",
              "      <td>1652.063898</td>\n",
              "      <td>1321.957429</td>\n",
              "      <td>2734.113941</td>\n",
              "      <td>1652.063898</td>\n",
              "      <td>1652.063898</td>\n",
              "      <td>391.332085</td>\n",
              "      <td>391.332085</td>\n",
              "      <td>391.332085</td>\n",
              "      <td>1.644273</td>\n",
              "      <td>1.644273</td>\n",
              "      <td>1.644273</td>\n",
              "      <td>389.687812</td>\n",
              "      <td>389.687812</td>\n",
              "      <td>389.687812</td>\n",
              "      <td>0.0</td>\n",
              "      <td>0.0</td>\n",
              "      <td>0.0</td>\n",
              "      <td>2043.395983</td>\n",
              "    </tr>\n",
              "    <tr>\n",
              "      <th>4</th>\n",
              "      <td>2006-12-20</td>\n",
              "      <td>1651.894694</td>\n",
              "      <td>1285.595173</td>\n",
              "      <td>2766.521623</td>\n",
              "      <td>1651.894694</td>\n",
              "      <td>1651.894694</td>\n",
              "      <td>368.307370</td>\n",
              "      <td>368.307370</td>\n",
              "      <td>368.307370</td>\n",
              "      <td>-37.130219</td>\n",
              "      <td>-37.130219</td>\n",
              "      <td>-37.130219</td>\n",
              "      <td>405.437589</td>\n",
              "      <td>405.437589</td>\n",
              "      <td>405.437589</td>\n",
              "      <td>0.0</td>\n",
              "      <td>0.0</td>\n",
              "      <td>0.0</td>\n",
              "      <td>2020.202064</td>\n",
              "    </tr>\n",
              "  </tbody>\n",
              "</table>\n",
              "</div>"
            ],
            "text/plain": [
              "          ds        trend  ...  multiplicative_terms_upper         yhat\n",
              "0 2006-12-16  1652.571508  ...                         0.0  2145.580459\n",
              "1 2006-12-17  1652.402305  ...                         0.0  2148.906914\n",
              "2 2006-12-18  1652.233101  ...                         0.0  1924.756744\n",
              "3 2006-12-19  1652.063898  ...                         0.0  2043.395983\n",
              "4 2006-12-20  1651.894694  ...                         0.0  2020.202064\n",
              "\n",
              "[5 rows x 19 columns]"
            ]
          },
          "metadata": {},
          "execution_count": 11
        }
      ]
    },
    {
      "cell_type": "code",
      "metadata": {
        "colab": {
          "base_uri": "https://localhost:8080/"
        },
        "id": "84yhs76J_Wt6",
        "outputId": "9ff0e68d-430f-48d7-8676-4b8e78e9d4a0"
      },
      "source": [
        "forecast.shape"
      ],
      "execution_count": 59,
      "outputs": [
        {
          "output_type": "execute_result",
          "data": {
            "text/plain": [
              "(1457, 19)"
            ]
          },
          "metadata": {},
          "execution_count": 59
        }
      ]
    },
    {
      "cell_type": "code",
      "metadata": {
        "id": "B3giX7-29PQC"
      },
      "source": [
        "y_true = X_train_daily1[\"y\"]\n",
        "y_pred = forecast[\"yhat\"][:-365]"
      ],
      "execution_count": 12,
      "outputs": []
    },
    {
      "cell_type": "code",
      "metadata": {
        "colab": {
          "base_uri": "https://localhost:8080/"
        },
        "id": "eAbNFiSnNli5",
        "outputId": "f03b9823-fa8c-4789-8ccc-9d98b64def25"
      },
      "source": [
        "y_true.shape"
      ],
      "execution_count": 25,
      "outputs": [
        {
          "output_type": "execute_result",
          "data": {
            "text/plain": [
              "(365,)"
            ]
          },
          "metadata": {},
          "execution_count": 25
        }
      ]
    },
    {
      "cell_type": "code",
      "metadata": {
        "colab": {
          "base_uri": "https://localhost:8080/",
          "height": 204
        },
        "id": "ah7E8QNNLoJQ",
        "outputId": "f9b2936d-f136-4576-bcaa-3493da97815f"
      },
      "source": [
        "X_train_daily1.head()"
      ],
      "execution_count": 61,
      "outputs": [
        {
          "output_type": "execute_result",
          "data": {
            "text/html": [
              "<div>\n",
              "<style scoped>\n",
              "    .dataframe tbody tr th:only-of-type {\n",
              "        vertical-align: middle;\n",
              "    }\n",
              "\n",
              "    .dataframe tbody tr th {\n",
              "        vertical-align: top;\n",
              "    }\n",
              "\n",
              "    .dataframe thead th {\n",
              "        text-align: right;\n",
              "    }\n",
              "</style>\n",
              "<table border=\"1\" class=\"dataframe\">\n",
              "  <thead>\n",
              "    <tr style=\"text-align: right;\">\n",
              "      <th></th>\n",
              "      <th>ds</th>\n",
              "      <th>y</th>\n",
              "    </tr>\n",
              "  </thead>\n",
              "  <tbody>\n",
              "    <tr>\n",
              "      <th>0</th>\n",
              "      <td>2006-12-16</td>\n",
              "      <td>1209.176</td>\n",
              "    </tr>\n",
              "    <tr>\n",
              "      <th>1</th>\n",
              "      <td>2006-12-17</td>\n",
              "      <td>3390.460</td>\n",
              "    </tr>\n",
              "    <tr>\n",
              "      <th>2</th>\n",
              "      <td>2006-12-18</td>\n",
              "      <td>2203.826</td>\n",
              "    </tr>\n",
              "    <tr>\n",
              "      <th>3</th>\n",
              "      <td>2006-12-19</td>\n",
              "      <td>1666.194</td>\n",
              "    </tr>\n",
              "    <tr>\n",
              "      <th>4</th>\n",
              "      <td>2006-12-20</td>\n",
              "      <td>2225.748</td>\n",
              "    </tr>\n",
              "  </tbody>\n",
              "</table>\n",
              "</div>"
            ],
            "text/plain": [
              "          ds         y\n",
              "0 2006-12-16  1209.176\n",
              "1 2006-12-17  3390.460\n",
              "2 2006-12-18  2203.826\n",
              "3 2006-12-19  1666.194\n",
              "4 2006-12-20  2225.748"
            ]
          },
          "metadata": {},
          "execution_count": 61
        }
      ]
    },
    {
      "cell_type": "code",
      "metadata": {
        "colab": {
          "base_uri": "https://localhost:8080/"
        },
        "id": "HLuoP4gJ9Dxv",
        "outputId": "ce10ceba-b784-4a67-f99a-9444dcb60313"
      },
      "source": [
        "# mean absolute percentage error\n",
        "\n",
        "mape = np.mean(np.abs((y_true - y_pred) / y_true)) * 100\n",
        "mape"
      ],
      "execution_count": 13,
      "outputs": [
        {
          "output_type": "execute_result",
          "data": {
            "text/plain": [
              "37.89883913311757"
            ]
          },
          "metadata": {},
          "execution_count": 13
        }
      ]
    },
    {
      "cell_type": "code",
      "metadata": {
        "colab": {
          "base_uri": "https://localhost:8080/"
        },
        "id": "XzAUNulhBHdt",
        "outputId": "5426520d-08ed-4fcd-f571-2b00ef68e222"
      },
      "source": [
        "# root mean squared erroe(RMSE) & mean absolute error (MAE) for time series\n",
        "from sklearn.metrics import mean_absolute_error, mean_squared_error\n",
        "\n",
        "mse = mean_squared_error(y_true, y_pred)\n",
        "rmse = np.sqrt(mse)\n",
        "print(\"rmse:\", rmse)"
      ],
      "execution_count": 17,
      "outputs": [
        {
          "output_type": "stream",
          "name": "stdout",
          "text": [
            "rmse: 556.2465300156035\n"
          ]
        }
      ]
    },
    {
      "cell_type": "code",
      "metadata": {
        "colab": {
          "base_uri": "https://localhost:8080/",
          "height": 657
        },
        "id": "x-koYnD8BO-l",
        "outputId": "c93f0780-090a-4d7d-be07-fabf861b8565"
      },
      "source": [
        "model.plot_components(forecast)\n",
        "plt.show()"
      ],
      "execution_count": 18,
      "outputs": [
        {
          "output_type": "display_data",
          "data": {
            "image/png": "[encoded data removed]",
            "text/plain": [
              "<Figure size 648x648 with 3 Axes>"
            ]
          },
          "metadata": {}
        }
      ]
    },
    {
      "cell_type": "code",
      "metadata": {
        "id": "UJEP4rLbBgI8"
      },
      "source": [
        "multi_df = daily_df.copy()\n",
        "\n",
        "multi_df = multi_df.rename(columns={\"index\": \"ds\", \n",
        "                                    \"datetime\": \"ds\", \n",
        "                                    \"Global_active_power\": \"y\",\n",
        "                                    \"Global_reactive_power\": \"add1\",\n",
        "                                    \"Voltage\": \"add2\",\n",
        "                                    \"Global_intensity\": \"add3\",\n",
        "                                    \"Sub_metering_1\": \"add4\",\n",
        "                                    \"Sub_metering_2\": \"add5\",\n",
        "                                    \"Sub_metering_3\": \"add6\"})"
      ],
      "execution_count": 19,
      "outputs": []
    },
    {
      "cell_type": "code",
      "metadata": {
        "colab": {
          "base_uri": "https://localhost:8080/",
          "height": 204
        },
        "id": "83ifj7orB7p1",
        "outputId": "b948a3aa-45b1-4b4a-e393-015ceb10b8f3"
      },
      "source": [
        "multi_df.head()"
      ],
      "execution_count": 47,
      "outputs": [
        {
          "output_type": "execute_result",
          "data": {
            "text/html": [
              "<div>\n",
              "<style scoped>\n",
              "    .dataframe tbody tr th:only-of-type {\n",
              "        vertical-align: middle;\n",
              "    }\n",
              "\n",
              "    .dataframe tbody tr th {\n",
              "        vertical-align: top;\n",
              "    }\n",
              "\n",
              "    .dataframe thead th {\n",
              "        text-align: right;\n",
              "    }\n",
              "</style>\n",
              "<table border=\"1\" class=\"dataframe\">\n",
              "  <thead>\n",
              "    <tr style=\"text-align: right;\">\n",
              "      <th></th>\n",
              "      <th>ds</th>\n",
              "      <th>y</th>\n",
              "      <th>add1</th>\n",
              "      <th>add2</th>\n",
              "      <th>add3</th>\n",
              "      <th>add4</th>\n",
              "      <th>add5</th>\n",
              "      <th>add6</th>\n",
              "    </tr>\n",
              "  </thead>\n",
              "  <tbody>\n",
              "    <tr>\n",
              "      <th>0</th>\n",
              "      <td>2006-12-16</td>\n",
              "      <td>1209.176</td>\n",
              "      <td>34.922</td>\n",
              "      <td>93552.53</td>\n",
              "      <td>5180.8</td>\n",
              "      <td>0.0</td>\n",
              "      <td>546.0</td>\n",
              "      <td>4926.0</td>\n",
              "    </tr>\n",
              "    <tr>\n",
              "      <th>1</th>\n",
              "      <td>2006-12-17</td>\n",
              "      <td>3390.460</td>\n",
              "      <td>226.006</td>\n",
              "      <td>345725.32</td>\n",
              "      <td>14398.6</td>\n",
              "      <td>2033.0</td>\n",
              "      <td>4187.0</td>\n",
              "      <td>13341.0</td>\n",
              "    </tr>\n",
              "    <tr>\n",
              "      <th>2</th>\n",
              "      <td>2006-12-18</td>\n",
              "      <td>2203.826</td>\n",
              "      <td>161.792</td>\n",
              "      <td>347373.64</td>\n",
              "      <td>9247.2</td>\n",
              "      <td>1063.0</td>\n",
              "      <td>2621.0</td>\n",
              "      <td>14018.0</td>\n",
              "    </tr>\n",
              "    <tr>\n",
              "      <th>3</th>\n",
              "      <td>2006-12-19</td>\n",
              "      <td>1666.194</td>\n",
              "      <td>150.942</td>\n",
              "      <td>348479.01</td>\n",
              "      <td>7094.0</td>\n",
              "      <td>839.0</td>\n",
              "      <td>7602.0</td>\n",
              "      <td>6197.0</td>\n",
              "    </tr>\n",
              "    <tr>\n",
              "      <th>4</th>\n",
              "      <td>2006-12-20</td>\n",
              "      <td>2225.748</td>\n",
              "      <td>160.998</td>\n",
              "      <td>348923.61</td>\n",
              "      <td>9313.0</td>\n",
              "      <td>0.0</td>\n",
              "      <td>2648.0</td>\n",
              "      <td>14063.0</td>\n",
              "    </tr>\n",
              "  </tbody>\n",
              "</table>\n",
              "</div>"
            ],
            "text/plain": [
              "          ds         y     add1       add2     add3    add4    add5     add6\n",
              "0 2006-12-16  1209.176   34.922   93552.53   5180.8     0.0   546.0   4926.0\n",
              "1 2006-12-17  3390.460  226.006  345725.32  14398.6  2033.0  4187.0  13341.0\n",
              "2 2006-12-18  2203.826  161.792  347373.64   9247.2  1063.0  2621.0  14018.0\n",
              "3 2006-12-19  1666.194  150.942  348479.01   7094.0   839.0  7602.0   6197.0\n",
              "4 2006-12-20  2225.748  160.998  348923.61   9313.0     0.0  2648.0  14063.0"
            ]
          },
          "metadata": {},
          "execution_count": 47
        }
      ]
    },
    {
      "cell_type": "code",
      "metadata": {
        "id": "hZdQYN2KB-Aj"
      },
      "source": [
        "X_train_multi = multi_df[:-365]\n",
        "X_test_multi = multi_df[-365:]"
      ],
      "execution_count": 20,
      "outputs": []
    },
    {
      "cell_type": "code",
      "metadata": {
        "colab": {
          "base_uri": "https://localhost:8080/"
        },
        "id": "ZlzA2YZMCBHc",
        "outputId": "044509a2-ee8b-4955-f9a1-69bd82d7fcb0"
      },
      "source": [
        "model_multi = Prophet()\n",
        "model_multi.add_regressor('add1')\n",
        "model_multi.add_regressor('add2')\n",
        "model_multi.add_regressor('add3')\n",
        "model_multi.add_regressor('add4')\n",
        "model_multi.add_regressor('add5')\n",
        "model_multi.add_regressor('add6')"
      ],
      "execution_count": 21,
      "outputs": [
        {
          "output_type": "execute_result",
          "data": {
            "text/plain": [
              "<fbprophet.forecaster.Prophet at 0x7f02fb557990>"
            ]
          },
          "metadata": {},
          "execution_count": 21
        }
      ]
    },
    {
      "cell_type": "code",
      "metadata": {
        "colab": {
          "base_uri": "https://localhost:8080/"
        },
        "id": "he-Qw_KmCZkr",
        "outputId": "01f6f1c5-c873-4b23-ed97-1e804f441b39"
      },
      "source": [
        "model_multi.fit(X_train_multi)"
      ],
      "execution_count": 22,
      "outputs": [
        {
          "output_type": "stream",
          "name": "stderr",
          "text": [
            "INFO:fbprophet:Disabling daily seasonality. Run prophet with daily_seasonality=True to override this.\n"
          ]
        },
        {
          "output_type": "execute_result",
          "data": {
            "text/plain": [
              "<fbprophet.forecaster.Prophet at 0x7f02fb557990>"
            ]
          },
          "metadata": {},
          "execution_count": 22
        }
      ]
    },
    {
      "cell_type": "code",
      "metadata": {
        "id": "DV5iKcirCexa"
      },
      "source": [
        "future_multi = model_multi.make_future_dataframe(periods=365,freq='D')\n",
        "future_multi['add1'] = multi_df['add1'].values\n",
        "future_multi['add2'] = multi_df['add2'].values\n",
        "future_multi['add3'] = multi_df['add3'].values\n",
        "future_multi['add4'] = multi_df['add4'].values\n",
        "future_multi['add5'] = multi_df['add5'].values\n",
        "future_multi['add6'] = multi_df['add6'].values\n",
        "forecast = model_multi.predict(future_multi)"
      ],
      "execution_count": 23,
      "outputs": []
    },
    {
      "cell_type": "code",
      "metadata": {
        "id": "9fvH3OvCDAZ7"
      },
      "source": [
        "y_true = X_train_multi[\"y\"]\n",
        "y_pred = forecast[\"yhat\"][:-365]"
      ],
      "execution_count": 24,
      "outputs": []
    },
    {
      "cell_type": "code",
      "metadata": {
        "colab": {
          "base_uri": "https://localhost:8080/"
        },
        "id": "uaEJb03gCyjF",
        "outputId": "109eeb74-ee77-4cfa-8109-f146168c8331"
      },
      "source": [
        "# mean absolute percentage error\n",
        "\n",
        "mape = np.mean(np.abs((y_true - y_pred) / y_true)) * 100\n",
        "mape"
      ],
      "execution_count": 25,
      "outputs": [
        {
          "output_type": "execute_result",
          "data": {
            "text/plain": [
              "0.8096982994556454"
            ]
          },
          "metadata": {},
          "execution_count": 25
        }
      ]
    },
    {
      "cell_type": "code",
      "metadata": {
        "colab": {
          "base_uri": "https://localhost:8080/"
        },
        "id": "nmcM6LuRClTo",
        "outputId": "cb584193-cf9a-496e-ac84-4f5f1407967e"
      },
      "source": [
        "mse = mean_squared_error(y_true, y_pred)\n",
        "rmse = np.sqrt(mse)\n",
        "print(\"rmse:\", rmse)"
      ],
      "execution_count": 26,
      "outputs": [
        {
          "output_type": "stream",
          "name": "stdout",
          "text": [
            "rmse: 14.899482265157861\n"
          ]
        }
      ]
    },
    {
      "cell_type": "code",
      "metadata": {
        "colab": {
          "base_uri": "https://localhost:8080/",
          "height": 890
        },
        "id": "Pbow_euOF4p0",
        "outputId": "66cd7eba-f48e-44b8-9c8a-2cd5dc09d9d4"
      },
      "source": [
        "model_multi.plot_components(forecast)\n",
        "plt.plot()"
      ],
      "execution_count": 28,
      "outputs": [
        {
          "output_type": "execute_result",
          "data": {
            "text/plain": [
              "[]"
            ]
          },
          "metadata": {},
          "execution_count": 28
        },
        {
          "output_type": "display_data",
          "data": {
            "image/png": "[encoded data removed]",
            "text/plain": [
              "<Figure size 648x864 with 4 Axes>"
            ]
          },
          "metadata": {}
        }
      ]
    },
    {
      "cell_type": "code",
      "metadata": {
        "id": "D9qbTM6CGEYb"
      },
      "source": [
        ""
      ],
      "execution_count": null,
      "outputs": []
    }
  ]
}